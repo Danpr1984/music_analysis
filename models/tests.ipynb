{
 "cells": [
  {
   "cell_type": "code",
   "execution_count": 1,
   "metadata": {},
   "outputs": [],
   "source": [
    "import os\n",
    "import json\n",
    "import librosa\n",
    "import numpy as np\n"
   ]
  },
  {
   "cell_type": "markdown",
   "metadata": {},
   "source": [
    "### Test Model h5"
   ]
  },
  {
   "cell_type": "code",
   "execution_count": 14,
   "metadata": {},
   "outputs": [
    {
     "name": "stderr",
     "output_type": "stream",
     "text": [
      "WARNING:absl:At this time, the v2.11+ optimizer `tf.keras.optimizers.RMSprop` runs slowly on M1/M2 Macs, please use the legacy Keras optimizer instead, located at `tf.keras.optimizers.legacy.RMSprop`.\n"
     ]
    }
   ],
   "source": [
    "from tensorflow.keras.models import load_model\n",
    "\n",
    "# Load the model\n",
    "loaded_model = load_model('/Users/danielporras/Musica/music_x/best_model.h5')"
   ]
  },
  {
   "cell_type": "code",
   "execution_count": 15,
   "metadata": {},
   "outputs": [
    {
     "name": "stdout",
     "output_type": "stream",
     "text": [
      "There are 170 audio files in the 'Black' folder.\n"
     ]
    }
   ],
   "source": [
    "import os\n",
    "\n",
    "folder_path = '/Users/danielporras/Musica/music_import/Music/Sky Blue'\n",
    "audio_files = [f for f in os.listdir(folder_path) if f.endswith('.mp3') or f.endswith('.m4a')]\n",
    "\n",
    "print(f\"There are {len(audio_files)} audio files in the 'Black' folder.\")"
   ]
  },
  {
   "cell_type": "code",
   "execution_count": 16,
   "metadata": {},
   "outputs": [
    {
     "name": "stdout",
     "output_type": "stream",
     "text": [
      "Number of classes: 7\n"
     ]
    }
   ],
   "source": [
    "# Get the output layer\n",
    "output_layer = loaded_model.layers[-1]\n",
    "\n",
    "# Print the number of classes\n",
    "print('Number of classes:', output_layer.output_shape[1])"
   ]
  },
  {
   "cell_type": "code",
   "execution_count": 6,
   "metadata": {},
   "outputs": [
    {
     "name": "stdout",
     "output_type": "stream",
     "text": [
      "Class labels: ['Black' 'Blue' 'Gray' 'Green' 'Orange' 'Red' 'Sky Blue' 'Yellow']\n"
     ]
    }
   ],
   "source": [
    "from sklearn.preprocessing import LabelEncoder\n",
    "\n",
    "# Assume 'labels' is a list of your labels\n",
    "labels = ['Red', 'Blue', 'Green', 'Yellow', 'Black', 'Gray', 'Sky Blue', 'Orange']\n",
    "\n",
    "encoder = LabelEncoder()\n",
    "encoder.fit(labels)\n",
    "\n",
    "print('Class labels:', encoder.classes_)"
   ]
  },
  {
   "cell_type": "code",
   "execution_count": 17,
   "metadata": {},
   "outputs": [
    {
     "name": "stdout",
     "output_type": "stream",
     "text": [
      "Number of classes: 7\n"
     ]
    }
   ],
   "source": [
    "# Get the output layer\n",
    "output_layer = loaded_model.layers[-1]\n",
    "\n",
    "# Print the number of classes\n",
    "print('Number of classes:', output_layer.output_shape[1])"
   ]
  },
  {
   "cell_type": "code",
   "execution_count": 18,
   "metadata": {},
   "outputs": [],
   "source": [
    "def load_and_preprocess_songs(directory):\n",
    "    song_features = []\n",
    "    song_names = []  # List to store the names of the songs\n",
    "    \n",
    "    for filename in os.listdir(directory):\n",
    "        if filename.endswith('.mp3') or filename.endswith('.m4a'):  # Assuming the songs are in .mp3 or .m4a format\n",
    "            song_path = os.path.join(directory, filename)\n",
    "            mfccs = extract_features(song_path)\n",
    "            \n",
    "            if mfccs is not None:  # Only append features if mfccs could be computed\n",
    "                # Reshape the data to match the expected input shape\n",
    "                mfccs = np.reshape(mfccs, (26, 1, 1))\n",
    "                song_features.append(mfccs)\n",
    "                song_names.append(filename)  # Store the name of the song\n",
    "                \n",
    "    # Convert list to numpy array\n",
    "    song_features = np.array(song_features)\n",
    "\n",
    "    # Ensure the data has the correct shape\n",
    "    if len(song_features.shape) < 4:\n",
    "        # Add a dimension for the batch size\n",
    "        song_features = np.expand_dims(song_features, axis=0)\n",
    "\n",
    "    return song_features, song_names"
   ]
  },
  {
   "cell_type": "code",
   "execution_count": 19,
   "metadata": {},
   "outputs": [],
   "source": [
    "def extract_features(file_path):\n",
    "    audio, sample_rate = librosa.load(file_path, res_type='kaiser_fast') \n",
    "    mfccs = librosa.feature.mfcc(y=audio, sr=sample_rate, n_mfcc=26)\n",
    "    mfccs_processed = np.mean(mfccs.T,axis=0)\n",
    "     \n",
    "    return mfccs_processed"
   ]
  },
  {
   "cell_type": "code",
   "execution_count": 20,
   "metadata": {},
   "outputs": [
    {
     "name": "stderr",
     "output_type": "stream",
     "text": [
      "/var/folders/_t/p3lht79d2_jd6gwjl515j1g40000gn/T/ipykernel_25958/3396950221.py:2: UserWarning: PySoundFile failed. Trying audioread instead.\n",
      "  audio, sample_rate = librosa.load(file_path, res_type='kaiser_fast')\n"
     ]
    },
    {
     "name": "stdout",
     "output_type": "stream",
     "text": [
      "1/1 [==============================] - 0s 119ms/step\n",
      "Song: watermarked_AEROPLANES_Groovy_Town_instrumental_2_31 copy.mp3, Predicted class: Sky Blue\n",
      "Song: watermarked_Music_City_Reggae_Squad_Steel_Pan_Island_instrumental_2_36.mp3, Predicted class: Sky Blue\n",
      "Song: Buscando-el-Son-no-voice_AdobeStock_709714291_preview copy.m4a, Predicted class: Sky Blue\n",
      "Song: watermarked_Music_City_Reggae_Squad_Steel_Pan_Island_instrumental_2_36 copy.mp3, Predicted class: Sky Blue\n",
      "Song: watermarked_LNDO_Just_Look_Up_background_vocals_2_45 copy.mp3, Predicted class: Sky Blue\n",
      "Song: watermarked_Jed_Stark_Holidaze_instrumental_2_03.mp3, Predicted class: Sky Blue\n",
      "Song: watermarked_Material_Gurl_The_Happiest_Memories_instrumental_1_56.mp3, Predicted class: Sky Blue\n",
      "Song: Spanish-Summer-Dance_AdobeStock_452607663_preview copy.m4a, Predicted class: Sky Blue\n",
      "Song: watermarked_Reveille_Go_For_It_instrumental_2_48 copy.mp3, Predicted class: Sky Blue\n",
      "Song: watermarked_Tiger_Gang_Hotpants_instrumental_1_20.mp3, Predicted class: Sky Blue\n",
      "Song: watermarked_PALA_Imagination_background_vocals_3_08 copy.mp3, Predicted class: Sky Blue\n",
      "Song: FEEL-GOOD-HAPPY-WORLD_AdobeStock_537914173_preview copy.m4a, Predicted class: Sky Blue\n",
      "Song: watermarked_Reveille_Go_For_It_instrumental_2_48.mp3, Predicted class: Sky Blue\n",
      "Song: watermarked_Material_Gurl_The_Happiest_Memories_instrumental_1_56 copy.mp3, Predicted class: Sky Blue\n",
      "Song: watermarked_PALA_Imagination_background_vocals_3_08.mp3, Predicted class: Sky Blue\n",
      "Song: Buscando-el-Son-no-voice_AdobeStock_709714291_preview.m4a, Predicted class: Sky Blue\n",
      "Song: CHILL-SALSA-GROOVE-(PALOMA)_AdobeStock_612913416_preview.m4a, Predicted class: Sky Blue\n",
      "Song: Spanish-Summer-Dance_AdobeStock_452607663_preview.m4a, Predicted class: Sky Blue\n",
      "Song: watermarked_Cast_Of_Characters_Reggae_Beach_instrumental_2_42.mp3, Predicted class: Sky Blue\n",
      "Song: watermarked_Tiger_Gang_Hotpants_instrumental_1_20 copy.mp3, Predicted class: Sky Blue\n",
      "Song: watermarked_Allex_Black_Water_background_vocals_3_02.mp3, Predicted class: Sky Blue\n",
      "Song: watermarked_Cody_Martin_Petalstone_background_vocals_3_15 copy.mp3, Predicted class: Sky Blue\n",
      "Song: watermarked_AEROPLANES_Groovy_Town_instrumental_2_31.mp3, Predicted class: Sky Blue\n",
      "Song: watermarked_LNDO_Just_Look_Up_background_vocals_2_45.mp3, Predicted class: Sky Blue\n",
      "Song: watermarked_Reveille_Autumnal_Dreams_instrumental_3_28 copy.mp3, Predicted class: Sky Blue\n",
      "Song: watermarked_Allex_Black_Water_background_vocals_3_02 copy.mp3, Predicted class: Sky Blue\n",
      "Song: watermarked_Cast_Of_Characters_Reggae_Beach_instrumental_2_42 copy.mp3, Predicted class: Sky Blue\n",
      "Song: watermarked_Reveille_Autumnal_Dreams_instrumental_3_28.mp3, Predicted class: Sky Blue\n",
      "Song: FEEL-GOOD-HAPPY-WORLD_AdobeStock_537914173_preview.m4a, Predicted class: Sky Blue\n",
      "Song: watermarked_Jed_Stark_Holidaze_instrumental_2_03 copy.mp3, Predicted class: Sky Blue\n",
      "Song: CHILL-SALSA-GROOVE-(PALOMA)_AdobeStock_612913416_preview copy.m4a, Predicted class: Sky Blue\n",
      "Song: watermarked_Cody_Martin_Petalstone_background_vocals_3_15.mp3, Predicted class: Sky Blue\n"
     ]
    }
   ],
   "source": [
    "# Define the directory with the test songs\n",
    "test_dir = '/Users/danielporras/Musica/music_import/test_songs'\n",
    "\n",
    "# Load and preprocess the songs\n",
    "test_songs, test_song_names = load_and_preprocess_songs(test_dir)\n",
    "\n",
    "# Use the loaded model to make predictions\n",
    "predictions = loaded_model.predict(test_songs)\n",
    "\n",
    "# Get the class with the highest probability\n",
    "predicted_classes = np.argmax(predictions, axis=1)\n",
    "\n",
    "# Define the mapping from indices to class labels\n",
    "class_labels = ['Red', 'Blue', 'Green', 'Yellow', 'Black', 'Gray', 'Sky Blue']\n",
    "\n",
    "# Print the predicted classes along with the song names\n",
    "for song_name, predicted_class in zip(test_song_names, predicted_classes):\n",
    "    print(f'Song: {song_name}, Predicted class: {class_labels[predicted_class]}')"
   ]
  },
  {
   "cell_type": "code",
   "execution_count": 19,
   "metadata": {},
   "outputs": [
    {
     "name": "stdout",
     "output_type": "stream",
     "text": [
      "The model can predict 10 different classes.\n"
     ]
    }
   ],
   "source": [
    "num_classes = loaded_model.output_shape[-1]\n",
    "print(f'The model can predict {num_classes} different classes.')"
   ]
  },
  {
   "cell_type": "code",
   "execution_count": null,
   "metadata": {},
   "outputs": [],
   "source": []
  }
 ],
 "metadata": {
  "kernelspec": {
   "display_name": "new_env_3_10",
   "language": "python",
   "name": "python3"
  },
  "language_info": {
   "codemirror_mode": {
    "name": "ipython",
    "version": 3
   },
   "file_extension": ".py",
   "mimetype": "text/x-python",
   "name": "python",
   "nbconvert_exporter": "python",
   "pygments_lexer": "ipython3",
   "version": "3.10.13"
  }
 },
 "nbformat": 4,
 "nbformat_minor": 2
}
