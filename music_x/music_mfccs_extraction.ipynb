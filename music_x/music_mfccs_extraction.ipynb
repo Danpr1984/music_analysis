{
 "cells": [
  {
   "cell_type": "code",
   "execution_count": 29,
   "metadata": {},
   "outputs": [],
   "source": [
    "import os\n",
    "import librosa"
   ]
  },
  {
   "cell_type": "code",
   "execution_count": 30,
   "metadata": {},
   "outputs": [],
   "source": [
    "def extract_features(file_path):\n",
    "    audio, sample_rate = librosa.load(file_path, res_type='kaiser_fast') \n",
    "    mfccs = librosa.feature.mfcc(y=audio, sr=sample_rate, n_mfcc=40)\n",
    "    mfccs_processed = np.mean(mfccs.T,axis=0)\n",
    "     \n",
    "    return mfccs_processed"
   ]
  },
  {
   "cell_type": "code",
   "execution_count": 31,
   "metadata": {},
   "outputs": [
    {
     "name": "stdout",
     "output_type": "stream",
     "text": [
      "Processing folder Purple...\n"
     ]
    },
    {
     "name": "stderr",
     "output_type": "stream",
     "text": [
      "/var/folders/fj/mnvcnxj90n5b6b1_vdmpd3d80000gn/T/ipykernel_8198/494131639.py:8: UserWarning: PySoundFile failed. Trying audioread instead.\n",
      "  audio, sample_rate = librosa.load(file_path, res_type='kaiser_fast', duration=30)\n",
      "/Users/danielporras/Musica/new_env_3_10/lib/python3.10/site-packages/librosa/core/audio.py:183: FutureWarning: librosa.core.audio.__audioread_load\n",
      "\tDeprecated as of librosa version 0.10.0.\n",
      "\tIt will be removed in librosa version 1.0.\n",
      "  y, sr_native = __audioread_load(path, offset, duration, dtype)\n"
     ]
    },
    {
     "name": "stdout",
     "output_type": "stream",
     "text": [
      "Processing folder Red...\n",
      "Processing folder Blue...\n",
      "Processing folder Green...\n",
      "Processing folder Yellow...\n",
      "Error encountered while parsing file: /Users/danielporras/Musica/music_import/Music/Yellow/30_Second-2020-05-08_-_Salsa_Island_-_www.FesliyanStudios.com_Steve_Oxen.mp3\n",
      "Processing folder Black...\n",
      "Processing folder White...\n",
      "Processing folder Gray...\n",
      "Processing folder Sky Blue...\n",
      "Processing folder Orange...\n"
     ]
    }
   ],
   "source": [
    "import os\n",
    "import librosa\n",
    "import numpy as np\n",
    "\n",
    "def extract_features(file_path):\n",
    "    try:\n",
    "        # Load the first 30 seconds of the audio file\n",
    "        audio, sample_rate = librosa.load(file_path, res_type='kaiser_fast', duration=30) \n",
    "        mfccs = librosa.feature.mfcc(y=audio, sr=sample_rate, n_mfcc=40)\n",
    "        mfccs_processed = np.mean(mfccs.T,axis=0)\n",
    "    except Exception as e:\n",
    "        print(f\"Error encountered while parsing file: {file_path}\")\n",
    "        return None \n",
    "    return mfccs_processed\n",
    "\n",
    "features = []\n",
    "labels = []\n",
    "song_names = []  # List to store the names of the songs\n",
    "\n",
    "folders = ['Purple', 'Red', 'Blue', 'Green', 'Yellow', 'Black', 'White', 'Gray', 'Sky Blue', 'Orange']\n",
    "\n",
    "for i, folder in enumerate(folders):\n",
    "    print(f'Processing folder {folder}...')\n",
    "    for file_name in os.listdir(f'/Users/danielporras/Musica/music_import/Music/{folder}'):\n",
    "        if file_name.endswith('.mp3') or file_name.endswith('.m4a'):\n",
    "            file_path = os.path.join(f'/Users/danielporras/Musica/music_import/Music/{folder}', file_name)\n",
    "            mfccs = extract_features(file_path)\n",
    "            \n",
    "            if mfccs is not None:  # Only append features and labels if mfccs could be computed\n",
    "                features.append(mfccs)\n",
    "                labels.append(i)  # use the folder index as the label\n",
    "                song_names.append(file_name)  # Store the name of the song"
   ]
  },
  {
   "cell_type": "code",
   "execution_count": null,
   "metadata": {},
   "outputs": [],
   "source": [
    "import os\n",
    "import librosa\n",
    "import numpy as np\n",
    "\n",
    "def extract_features(file_path):\n",
    "    try:\n",
    "        # Load the first 30 seconds of the audio file\n",
    "        audio, sample_rate = librosa.load(file_path, res_type='kaiser_fast', duration=30) \n",
    "        mfccs = librosa.feature.mfcc(y=audio, sr=sample_rate, n_mfcc=40)\n",
    "        mfccs_processed = np.mean(mfccs.T,axis=0)\n",
    "    except Exception as e:\n",
    "        print(f\"Error encountered while parsing file: {file_path}\")\n",
    "        return None \n",
    "    return mfccs_processed\n",
    "\n",
    "features = []\n",
    "labels = []\n",
    "song_names = []  # List to store the names of the songs\n",
    "\n",
    "folders = ['Purple', 'Red', 'Blue', 'Green', 'Yellow', 'Black', 'White', 'Gray', 'Sky Blue', 'Orange']\n",
    "\n",
    "for i, folder in enumerate(folders):\n",
    "    print(f'Processing folder {folder}...')\n",
    "    for file_name in os.listdir(f'/Users/danielporras/Musica/music_import/Music/{folder}'):\n",
    "        if file_name.endswith('.mp3') or file_name.endswith('.m4a'):\n",
    "            file_path = os.path.join(f'/Users/danielporras/Musica/music_import/Music/{folder}', file_name)\n",
    "            mfccs = extract_features(file_path)\n",
    "            \n",
    "            if mfccs is not None:  # Only append features and labels if mfccs could be computed\n",
    "                features.append(mfccs)\n",
    "                labels.append(i)  # use the folder index as the label\n",
    "                song_names.append(file_name)  # Store the name of the song"
   ]
  },
  {
   "cell_type": "code",
   "execution_count": 32,
   "metadata": {},
   "outputs": [
    {
     "name": "stdout",
     "output_type": "stream",
     "text": [
      "              0           1          2          3          4          5  \\\n",
      "0    -68.459068   86.758499   3.873855  28.657036  -3.714008  20.254644   \n",
      "1    -79.018547   79.719734 -11.021896  30.304930   1.265209  25.275110   \n",
      "2    -96.639854  134.460068 -25.060055  44.338890 -10.656878  17.865355   \n",
      "3   -107.159492  132.864624 -31.235996  64.378143 -13.614754  15.934214   \n",
      "4    -97.439957   63.190758  -4.948520  19.997805 -25.630062  10.645459   \n",
      "..          ...         ...        ...        ...        ...        ...   \n",
      "174  -58.668144   95.154442 -13.227621  54.677692 -14.491524  27.829649   \n",
      "175  -96.479324   93.629898  -6.770094  32.175659  -4.879710  28.601112   \n",
      "176 -256.505615  121.785172  10.892372   4.280241   1.088869 -19.890768   \n",
      "177 -179.951981  152.112595  31.335478  20.923681   8.097250  16.254114   \n",
      "178 -245.722214  128.849579  17.115650  37.350315  15.324247  19.386408   \n",
      "\n",
      "             6          7          8          9  ...        31        32  \\\n",
      "0   -11.452873  15.221039  -9.034134  10.255754  ...  6.258196 -0.571213   \n",
      "1    -0.091171  19.993444  -4.385217  17.095404  ... -1.052852 -3.818461   \n",
      "2   -17.880695  10.401210  -5.633551   3.066763  ...  1.864355  1.218138   \n",
      "3     4.471530   4.756537   2.822120  -1.649033  ...  1.987038 -3.245563   \n",
      "4   -27.134905   8.267219 -23.023113   4.713477  ...  0.719244 -0.574395   \n",
      "..         ...        ...        ...        ...  ...       ...       ...   \n",
      "174 -16.926760  17.968504 -12.550498  17.077774  ... -3.879737 -1.748934   \n",
      "175  -3.567469  17.142675  -5.035589  13.476925  ... -3.276081 -2.390295   \n",
      "176 -34.767830  -8.231181 -22.488234  12.239797  ...  3.441696  2.243948   \n",
      "177  -8.659965  16.303963  -4.184148   2.992253  ...  1.954345  2.617672   \n",
      "178   0.054680  14.112839  -9.075012   3.562145  ... -3.915149 -2.254865   \n",
      "\n",
      "           33        34        35        36        37        38        39  \\\n",
      "0   -3.937305 -6.164198  0.311086 -1.332593  0.867783  0.839676  4.095049   \n",
      "1    1.166464 -0.162008  1.495514  0.885220  1.822618 -1.637556 -0.009227   \n",
      "2   -1.600490 -2.176510 -2.975256 -2.215548  0.846845  1.125505  0.700017   \n",
      "3   -4.155588 -1.275627 -2.396021 -2.906043 -3.570184 -6.151053 -2.622029   \n",
      "4   -1.151711  3.285672  1.740766  7.150561  0.035523  0.489759 -4.239075   \n",
      "..        ...       ...       ...       ...       ...       ...       ...   \n",
      "174 -3.068535 -1.384427 -3.372576  2.110713 -1.594893  0.312013 -4.761464   \n",
      "175  2.070695 -0.627745  1.562998 -2.037476 -0.985082 -1.296681 -0.265863   \n",
      "176  0.957181  4.519583  3.033487  3.317845  1.273272  1.350331 -2.170284   \n",
      "177 -1.380741  1.089679 -0.713009  5.272006  2.421893  2.552219 -5.282124   \n",
      "178 -2.619673 -4.398024 -5.567908 -0.260402 -3.619221 -4.425376 -5.386752   \n",
      "\n",
      "     label  \n",
      "0        0  \n",
      "1        0  \n",
      "2        0  \n",
      "3        0  \n",
      "4        0  \n",
      "..     ...  \n",
      "174      9  \n",
      "175      9  \n",
      "176      9  \n",
      "177      9  \n",
      "178      9  \n",
      "\n",
      "[179 rows x 41 columns]\n"
     ]
    }
   ],
   "source": [
    "import pandas as pd\n",
    "\n",
    "# Convert features and labels to a pandas DataFrame\n",
    "df = pd.DataFrame(features)\n",
    "df['label'] = labels\n",
    "\n",
    "# Print the first few rows of the DataFrame\n",
    "print(df)"
   ]
  },
  {
   "cell_type": "code",
   "execution_count": 33,
   "metadata": {},
   "outputs": [
    {
     "name": "stdout",
     "output_type": "stream",
     "text": [
      "{0: 'Red', 1: 'Blue', 2: 'Green', 3: 'Yellow', 4: 'Orange', 5: 'Purple', 6: 'Pink', 7: 'Brown', 8: 'Black', 9: 'White'}\n"
     ]
    }
   ],
   "source": [
    "folders = ['Red', 'Blue', 'Green', 'Yellow', 'Orange', 'Purple', 'Pink', 'Brown', 'Black', 'White']  # Replace with your actual folder order\n",
    "label_to_color = {i: color for i, color in enumerate(folders)}\n",
    "print(label_to_color)"
   ]
  },
  {
   "cell_type": "code",
   "execution_count": 34,
   "metadata": {},
   "outputs": [
    {
     "name": "stdout",
     "output_type": "stream",
     "text": [
      "[0 1 2 3 4 5 6 7 8 9]\n"
     ]
    }
   ],
   "source": [
    "print(df['label'].unique())"
   ]
  },
  {
   "cell_type": "code",
   "execution_count": 35,
   "metadata": {},
   "outputs": [
    {
     "name": "stdout",
     "output_type": "stream",
     "text": [
      "label\n",
      "0    18\n",
      "1    18\n",
      "2    18\n",
      "3    18\n",
      "5    18\n",
      "6    18\n",
      "7    18\n",
      "8    18\n",
      "9    18\n",
      "4    17\n",
      "Name: count, dtype: int64\n"
     ]
    }
   ],
   "source": [
    "print(df['label'].value_counts())"
   ]
  },
  {
   "cell_type": "code",
   "execution_count": 42,
   "metadata": {},
   "outputs": [
    {
     "ename": "KeyError",
     "evalue": "'song'",
     "output_type": "error",
     "traceback": [
      "\u001b[0;31m---------------------------------------------------------------------------\u001b[0m",
      "\u001b[0;31mKeyError\u001b[0m                                  Traceback (most recent call last)",
      "File \u001b[0;32m~/Musica/new_env_3_10/lib/python3.10/site-packages/pandas/core/indexes/base.py:3790\u001b[0m, in \u001b[0;36mIndex.get_loc\u001b[0;34m(self, key)\u001b[0m\n\u001b[1;32m   3789\u001b[0m \u001b[39mtry\u001b[39;00m:\n\u001b[0;32m-> 3790\u001b[0m     \u001b[39mreturn\u001b[39;00m \u001b[39mself\u001b[39;49m\u001b[39m.\u001b[39;49m_engine\u001b[39m.\u001b[39;49mget_loc(casted_key)\n\u001b[1;32m   3791\u001b[0m \u001b[39mexcept\u001b[39;00m \u001b[39mKeyError\u001b[39;00m \u001b[39mas\u001b[39;00m err:\n",
      "File \u001b[0;32mindex.pyx:152\u001b[0m, in \u001b[0;36mpandas._libs.index.IndexEngine.get_loc\u001b[0;34m()\u001b[0m\n",
      "File \u001b[0;32mindex.pyx:181\u001b[0m, in \u001b[0;36mpandas._libs.index.IndexEngine.get_loc\u001b[0;34m()\u001b[0m\n",
      "File \u001b[0;32mpandas/_libs/hashtable_class_helper.pxi:7080\u001b[0m, in \u001b[0;36mpandas._libs.hashtable.PyObjectHashTable.get_item\u001b[0;34m()\u001b[0m\n",
      "File \u001b[0;32mpandas/_libs/hashtable_class_helper.pxi:7088\u001b[0m, in \u001b[0;36mpandas._libs.hashtable.PyObjectHashTable.get_item\u001b[0;34m()\u001b[0m\n",
      "\u001b[0;31mKeyError\u001b[0m: 'song'",
      "\nThe above exception was the direct cause of the following exception:\n",
      "\u001b[0;31mKeyError\u001b[0m                                  Traceback (most recent call last)",
      "\u001b[1;32m/Users/danielporras/Musica/music_x/music_mfccs_extraction.ipynb Cell 8\u001b[0m line \u001b[0;36m8\n\u001b[1;32m      <a href='vscode-notebook-cell:/Users/danielporras/Musica/music_x/music_mfccs_extraction.ipynb#X26sZmlsZQ%3D%3D?line=4'>5</a>\u001b[0m \u001b[39mfor\u001b[39;00m index, row \u001b[39min\u001b[39;00m df\u001b[39m.\u001b[39miterrows():\n\u001b[1;32m      <a href='vscode-notebook-cell:/Users/danielporras/Musica/music_x/music_mfccs_extraction.ipynb#X26sZmlsZQ%3D%3D?line=5'>6</a>\u001b[0m     \u001b[39m# Get the label and song name from the row\u001b[39;00m\n\u001b[1;32m      <a href='vscode-notebook-cell:/Users/danielporras/Musica/music_x/music_mfccs_extraction.ipynb#X26sZmlsZQ%3D%3D?line=6'>7</a>\u001b[0m     label \u001b[39m=\u001b[39m row[\u001b[39m'\u001b[39m\u001b[39mlabel\u001b[39m\u001b[39m'\u001b[39m]\n\u001b[0;32m----> <a href='vscode-notebook-cell:/Users/danielporras/Musica/music_x/music_mfccs_extraction.ipynb#X26sZmlsZQ%3D%3D?line=7'>8</a>\u001b[0m     song_name \u001b[39m=\u001b[39m row[\u001b[39m'\u001b[39;49m\u001b[39msong\u001b[39;49m\u001b[39m'\u001b[39;49m]\n\u001b[1;32m     <a href='vscode-notebook-cell:/Users/danielporras/Musica/music_x/music_mfccs_extraction.ipynb#X26sZmlsZQ%3D%3D?line=9'>10</a>\u001b[0m     \u001b[39m# If the label is not already in the dictionary, add it with an empty list\u001b[39;00m\n\u001b[1;32m     <a href='vscode-notebook-cell:/Users/danielporras/Musica/music_x/music_mfccs_extraction.ipynb#X26sZmlsZQ%3D%3D?line=10'>11</a>\u001b[0m     \u001b[39mif\u001b[39;00m label \u001b[39mnot\u001b[39;00m \u001b[39min\u001b[39;00m songs_by_label:\n",
      "File \u001b[0;32m~/Musica/new_env_3_10/lib/python3.10/site-packages/pandas/core/series.py:1040\u001b[0m, in \u001b[0;36mSeries.__getitem__\u001b[0;34m(self, key)\u001b[0m\n\u001b[1;32m   1037\u001b[0m     \u001b[39mreturn\u001b[39;00m \u001b[39mself\u001b[39m\u001b[39m.\u001b[39m_values[key]\n\u001b[1;32m   1039\u001b[0m \u001b[39melif\u001b[39;00m key_is_scalar:\n\u001b[0;32m-> 1040\u001b[0m     \u001b[39mreturn\u001b[39;00m \u001b[39mself\u001b[39;49m\u001b[39m.\u001b[39;49m_get_value(key)\n\u001b[1;32m   1042\u001b[0m \u001b[39m# Convert generator to list before going through hashable part\u001b[39;00m\n\u001b[1;32m   1043\u001b[0m \u001b[39m# (We will iterate through the generator there to check for slices)\u001b[39;00m\n\u001b[1;32m   1044\u001b[0m \u001b[39mif\u001b[39;00m is_iterator(key):\n",
      "File \u001b[0;32m~/Musica/new_env_3_10/lib/python3.10/site-packages/pandas/core/series.py:1156\u001b[0m, in \u001b[0;36mSeries._get_value\u001b[0;34m(self, label, takeable)\u001b[0m\n\u001b[1;32m   1153\u001b[0m     \u001b[39mreturn\u001b[39;00m \u001b[39mself\u001b[39m\u001b[39m.\u001b[39m_values[label]\n\u001b[1;32m   1155\u001b[0m \u001b[39m# Similar to Index.get_value, but we do not fall back to positional\u001b[39;00m\n\u001b[0;32m-> 1156\u001b[0m loc \u001b[39m=\u001b[39m \u001b[39mself\u001b[39;49m\u001b[39m.\u001b[39;49mindex\u001b[39m.\u001b[39;49mget_loc(label)\n\u001b[1;32m   1158\u001b[0m \u001b[39mif\u001b[39;00m is_integer(loc):\n\u001b[1;32m   1159\u001b[0m     \u001b[39mreturn\u001b[39;00m \u001b[39mself\u001b[39m\u001b[39m.\u001b[39m_values[loc]\n",
      "File \u001b[0;32m~/Musica/new_env_3_10/lib/python3.10/site-packages/pandas/core/indexes/base.py:3797\u001b[0m, in \u001b[0;36mIndex.get_loc\u001b[0;34m(self, key)\u001b[0m\n\u001b[1;32m   3792\u001b[0m     \u001b[39mif\u001b[39;00m \u001b[39misinstance\u001b[39m(casted_key, \u001b[39mslice\u001b[39m) \u001b[39mor\u001b[39;00m (\n\u001b[1;32m   3793\u001b[0m         \u001b[39misinstance\u001b[39m(casted_key, abc\u001b[39m.\u001b[39mIterable)\n\u001b[1;32m   3794\u001b[0m         \u001b[39mand\u001b[39;00m \u001b[39many\u001b[39m(\u001b[39misinstance\u001b[39m(x, \u001b[39mslice\u001b[39m) \u001b[39mfor\u001b[39;00m x \u001b[39min\u001b[39;00m casted_key)\n\u001b[1;32m   3795\u001b[0m     ):\n\u001b[1;32m   3796\u001b[0m         \u001b[39mraise\u001b[39;00m InvalidIndexError(key)\n\u001b[0;32m-> 3797\u001b[0m     \u001b[39mraise\u001b[39;00m \u001b[39mKeyError\u001b[39;00m(key) \u001b[39mfrom\u001b[39;00m \u001b[39merr\u001b[39;00m\n\u001b[1;32m   3798\u001b[0m \u001b[39mexcept\u001b[39;00m \u001b[39mTypeError\u001b[39;00m:\n\u001b[1;32m   3799\u001b[0m     \u001b[39m# If we have a listlike key, _check_indexing_error will raise\u001b[39;00m\n\u001b[1;32m   3800\u001b[0m     \u001b[39m#  InvalidIndexError. Otherwise we fall through and re-raise\u001b[39;00m\n\u001b[1;32m   3801\u001b[0m     \u001b[39m#  the TypeError.\u001b[39;00m\n\u001b[1;32m   3802\u001b[0m     \u001b[39mself\u001b[39m\u001b[39m.\u001b[39m_check_indexing_error(key)\n",
      "\u001b[0;31mKeyError\u001b[0m: 'song'"
     ]
    }
   ],
   "source": [
    "# Create a dictionary to store song names for each label\n",
    "songs_by_label = {}\n",
    "\n",
    "# Iterate over the rows in the DataFrame\n",
    "for index, row in df.iterrows():\n",
    "    # Get the label and song name from the row\n",
    "    label = row['label']\n",
    "    song_name = row['song']\n",
    "\n",
    "    # If the label is not already in the dictionary, add it with an empty list\n",
    "    if label not in songs_by_label:\n",
    "        songs_by_label[label] = []\n",
    "\n",
    "    # Append the song name to the list for this label\n",
    "    songs_by_label[label].append(song_name)\n",
    "\n",
    "# Now you can print the song names for each label\n",
    "for label, songs in songs_by_label.items():\n",
    "    print(f\"Label {label}:\")\n",
    "    for song in songs:\n",
    "        print(song)"
   ]
  },
  {
   "cell_type": "code",
   "execution_count": 36,
   "metadata": {},
   "outputs": [
    {
     "name": "stdout",
     "output_type": "stream",
     "text": [
      "SANDY-BEACH_AdobeStock_452595402_preview (1).m4a\n",
      "30_Second-2021-08-06_-_Spanish_Hard_Trap_-_www.FesliyanStudios.com.mp3\n",
      ".DS_Store\n",
      "30_Second-2020-06-01_-_Sensual_Bolero_-_www.FesliyanStudios.com_Steve_Oxen.mp3\n",
      "Vzen-instrumental-beat---Dubby-one_AdobeStock_528505447_preview.m4a\n",
      "Upbeat-Corporate-Dance_AdobeStock_680539928_preview.m4a\n",
      "2019-04-19_-_Like_a_Boss_-_www.fesliyanstudios.com_-_David_Renda.mp3\n",
      "2019-06-17_-_Super_Spiffy_-_David_Fesliyan.mp3\n",
      "Young-Stars_AdobeStock_680541076_preview.m4a\n",
      "watermarked_King_Flamingo_Seaside_Samba_instrumental_1_44.mp3\n",
      "30sec-2021-01-09_-_Feeling_Free_-_www.FesliyanStudios.com_David_Renda.mp3\n",
      "scandinavianz-tranvik-free-download-158258.mp3\n",
      "watermarked_Alessandro_Gugel_Kokobongo_instrumental_2_50.mp3\n",
      "once-in-paris-168895.mp3\n",
      "GROOVY-FEEL-GOOD-ROCK_AdobeStock_523094636_preview.m4a\n",
      "30-SECONDS-2019-12-29_-_Feeling_The_Best_-_FesliyanStudios.com_-_David_Renda.mp3 (1).mp3\n",
      "UPBEAT-DRUM-AND-BASS-(NOW-YOU-SEE-IT)_AdobeStock_685823080_preview.m4a\n",
      "Buscando-el-Son-no-voice_AdobeStock_680540025_preview.m4a\n",
      "Blues-from-the-50s-style_AdobeStock_619828149_preview.m4a\n"
     ]
    }
   ],
   "source": [
    "import os\n",
    "\n",
    "# Define the base directory where the folders are located\n",
    "base_dir = '/Users/danielporras/Musica/music_import/Music/'\n",
    "\n",
    "# Get the name of the 'Orange' folder\n",
    "orange_folder = label_to_color[4]\n",
    "\n",
    "# Construct the full path to the 'Orange' folder\n",
    "orange_dir = os.path.join(base_dir, orange_folder)\n",
    "\n",
    "# List all songs in the 'Orange' folder\n",
    "songs = os.listdir(orange_dir)\n",
    "\n",
    "# Print each song\n",
    "for song in songs:\n",
    "    print(song)"
   ]
  },
  {
   "cell_type": "code",
   "execution_count": null,
   "metadata": {},
   "outputs": [],
   "source": []
  }
 ],
 "metadata": {
  "kernelspec": {
   "display_name": "env",
   "language": "python",
   "name": "python3"
  },
  "language_info": {
   "codemirror_mode": {
    "name": "ipython",
    "version": 3
   },
   "file_extension": ".py",
   "mimetype": "text/x-python",
   "name": "python",
   "nbconvert_exporter": "python",
   "pygments_lexer": "ipython3",
   "version": "3.10.13"
  }
 },
 "nbformat": 4,
 "nbformat_minor": 2
}
